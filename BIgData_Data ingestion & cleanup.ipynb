{
 "cells": [
  {
   "cell_type": "markdown",
   "metadata": {},
   "source": [
    "#### Huzaifa Kapasi- MIT License"
   ]
  },
  {
   "cell_type": "markdown",
   "metadata": {},
   "source": [
    "# BigData Ingestion and Cleanup"
   ]
  },
  {
   "cell_type": "code",
   "execution_count": 3,
   "metadata": {},
   "outputs": [],
   "source": [
    "\n",
    "from pyspark import SparkConf\n",
    "from pyspark import SparkContext\n",
    "from pyspark.sql import SQLContext\n",
    "from pyspark.sql.functions import UserDefinedFunction\n",
    "from pyspark.sql.types import *\n",
    "import matplotlib.pyplot as plt\n",
    "import numpy as np\n",
    "import datetime\n",
    "\n",
    "sqlContext = SQLContext(sc)\n",
    "from pyspark.sql import SparkSession\n",
    "spark = SparkSession.builder.master('local[5]').appName('Data ingestion & cleanup').getOrCreate()"
   ]
  },
  {
   "cell_type": "markdown",
   "metadata": {},
   "source": [
    "### Read the Trip Data from CSV\n",
    "#### http://dx.doi.org/10.13012/J8PN93H8 "
   ]
  },
  {
   "cell_type": "code",
   "execution_count": 4,
   "metadata": {},
   "outputs": [],
   "source": [
    "\n",
    "tripData = spark.read.csv(path='H:/Training/PySpark/data/trip_data/trip_data_1.csv', header=True, inferSchema=True)"
   ]
  },
  {
   "cell_type": "markdown",
   "metadata": {},
   "source": [
    "### Read Fare Dataframe from CSV"
   ]
  },
  {
   "cell_type": "code",
   "execution_count": 5,
   "metadata": {},
   "outputs": [],
   "source": [
    "fareData = spark.read.csv(path='H:/Training/PySpark/data/trip_fare/trip_fare_1.csv', header=True, inferSchema=True)"
   ]
  },
  {
   "cell_type": "markdown",
   "metadata": {},
   "source": [
    "### CHECK SCHEMA OF TRIP AND FARE TABLES"
   ]
  },
  {
   "cell_type": "code",
   "execution_count": 5,
   "metadata": {
    "scrolled": true
   },
   "outputs": [
    {
     "name": "stdout",
     "output_type": "stream",
     "text": [
      "root\n",
      " |-- medallion: string (nullable = true)\n",
      " |-- hack_license: string (nullable = true)\n",
      " |-- vendor_id: string (nullable = true)\n",
      " |-- rate_code: integer (nullable = true)\n",
      " |-- store_and_fwd_flag: string (nullable = true)\n",
      " |-- pickup_datetime: timestamp (nullable = true)\n",
      " |-- dropoff_datetime: timestamp (nullable = true)\n",
      " |-- passenger_count: integer (nullable = true)\n",
      " |-- trip_time_in_secs: integer (nullable = true)\n",
      " |-- trip_distance: double (nullable = true)\n",
      " |-- pickup_longitude: double (nullable = true)\n",
      " |-- pickup_latitude: double (nullable = true)\n",
      " |-- dropoff_longitude: double (nullable = true)\n",
      " |-- dropoff_latitude: double (nullable = true)\n",
      "\n",
      "root\n",
      " |-- medallion: string (nullable = true)\n",
      " |--  hack_license: string (nullable = true)\n",
      " |--  vendor_id: string (nullable = true)\n",
      " |--  pickup_datetime: timestamp (nullable = true)\n",
      " |--  payment_type: string (nullable = true)\n",
      " |--  fare_amount: double (nullable = true)\n",
      " |--  surcharge: double (nullable = true)\n",
      " |--  mta_tax: double (nullable = true)\n",
      " |--  tip_amount: double (nullable = true)\n",
      " |--  tolls_amount: double (nullable = true)\n",
      " |--  total_amount: double (nullable = true)\n",
      "\n"
     ]
    }
   ],
   "source": [
    "tripData.printSchema()\n",
    "fareData.printSchema()"
   ]
  },
  {
   "cell_type": "code",
   "execution_count": 6,
   "metadata": {},
   "outputs": [
    {
     "data": {
      "text/plain": [
       "pyspark.sql.dataframe.DataFrame"
      ]
     },
     "execution_count": 6,
     "metadata": {},
     "output_type": "execute_result"
    }
   ],
   "source": [
    "type(tripData)"
   ]
  },
  {
   "cell_type": "code",
   "execution_count": 7,
   "metadata": {},
   "outputs": [
    {
     "data": {
      "text/plain": [
       "pyspark.sql.dataframe.DataFrame"
      ]
     },
     "execution_count": 7,
     "metadata": {},
     "output_type": "execute_result"
    }
   ],
   "source": [
    "type(fareData)"
   ]
  },
  {
   "cell_type": "markdown",
   "metadata": {},
   "source": [
    "### Join Two Dataframes through Common Column Name"
   ]
  },
  {
   "cell_type": "code",
   "execution_count": 6,
   "metadata": {},
   "outputs": [],
   "source": [
    "new_df = tripData.join(fareData, on=['medallion'], how='left_outer')"
   ]
  },
  {
   "cell_type": "code",
   "execution_count": 9,
   "metadata": {},
   "outputs": [
    {
     "name": "stdout",
     "output_type": "stream",
     "text": [
      "+--------------------+--------------------+---------+---------+------------------+-------------------+-------------------+---------------+-----------------+-------------+----------------+---------------+-----------------+----------------+--------------------+----------+-------------------+-------------+------------+----------+--------+-----------+-------------+-------------+\n",
      "|           medallion|        hack_license|vendor_id|rate_code|store_and_fwd_flag|    pickup_datetime|   dropoff_datetime|passenger_count|trip_time_in_secs|trip_distance|pickup_longitude|pickup_latitude|dropoff_longitude|dropoff_latitude|        hack_license| vendor_id|    pickup_datetime| payment_type| fare_amount| surcharge| mta_tax| tip_amount| tolls_amount| total_amount|\n",
      "+--------------------+--------------------+---------+---------+------------------+-------------------+-------------------+---------------+-----------------+-------------+----------------+---------------+-----------------+----------------+--------------------+----------+-------------------+-------------+------------+----------+--------+-----------+-------------+-------------+\n",
      "|06EAD4C8D98202F1E...|1B7E8E2E716252398...|      CMT|        1|                 N|2013-01-01 07:10:27|2013-01-01 07:27:19|              1|             1011|          5.4|      -74.001434|      40.746384|       -73.944351|       40.707973|1B7E8E2E716252398...|       CMT|2013-01-01 07:10:27|          CRD|        18.5|       0.0|     0.5|        2.0|          0.0|         21.0|\n",
      "|06EAD4C8D98202F1E...|1B7E8E2E716252398...|      CMT|        1|                 N|2013-01-01 07:10:27|2013-01-01 07:27:19|              1|             1011|          5.4|      -74.001434|      40.746384|       -73.944351|       40.707973|6EE7BDC9FC2B9616F...|       CMT|2013-01-01 02:35:02|          CRD|         4.5|       0.5|     0.5|        1.1|          0.0|          6.6|\n",
      "|06EAD4C8D98202F1E...|1B7E8E2E716252398...|      CMT|        1|                 N|2013-01-01 07:10:27|2013-01-01 07:27:19|              1|             1011|          5.4|      -74.001434|      40.746384|       -73.944351|       40.707973|1B7E8E2E716252398...|       CMT|2013-01-01 10:30:18|          CRD|        15.0|       0.0|     0.5|       4.65|          0.0|        20.15|\n",
      "|06EAD4C8D98202F1E...|1B7E8E2E716252398...|      CMT|        1|                 N|2013-01-01 07:10:27|2013-01-01 07:27:19|              1|             1011|          5.4|      -74.001434|      40.746384|       -73.944351|       40.707973|1B7E8E2E716252398...|       CMT|2013-01-01 06:14:11|          CRD|         7.5|       0.0|     0.5|        1.0|          0.0|          9.0|\n",
      "|06EAD4C8D98202F1E...|1B7E8E2E716252398...|      CMT|        1|                 N|2013-01-01 07:10:27|2013-01-01 07:27:19|              1|             1011|          5.4|      -74.001434|      40.746384|       -73.944351|       40.707973|1B7E8E2E716252398...|       CMT|2013-01-01 13:17:17|          CRD|         6.5|       0.0|     0.5|        1.4|          0.0|          8.4|\n",
      "|06EAD4C8D98202F1E...|1B7E8E2E716252398...|      CMT|        1|                 N|2013-01-01 07:10:27|2013-01-01 07:27:19|              1|             1011|          5.4|      -74.001434|      40.746384|       -73.944351|       40.707973|6EE7BDC9FC2B9616F...|       CMT|2013-01-01 02:41:23|          CRD|         6.0|       0.5|     0.5|        1.4|          0.0|          8.4|\n",
      "|06EAD4C8D98202F1E...|1B7E8E2E716252398...|      CMT|        1|                 N|2013-01-01 07:10:27|2013-01-01 07:27:19|              1|             1011|          5.4|      -74.001434|      40.746384|       -73.944351|       40.707973|1B7E8E2E716252398...|       CMT|2013-01-01 12:05:18|          CRD|         7.5|       0.0|     0.5|        1.0|          0.0|          9.0|\n",
      "|06EAD4C8D98202F1E...|1B7E8E2E716252398...|      CMT|        1|                 N|2013-01-01 07:10:27|2013-01-01 07:27:19|              1|             1011|          5.4|      -74.001434|      40.746384|       -73.944351|       40.707973|6EE7BDC9FC2B9616F...|       CMT|2013-01-01 02:04:45|          CRD|        15.0|       0.5|     0.5|        3.2|          0.0|         19.2|\n",
      "|06EAD4C8D98202F1E...|1B7E8E2E716252398...|      CMT|        1|                 N|2013-01-01 07:10:27|2013-01-01 07:27:19|              1|             1011|          5.4|      -74.001434|      40.746384|       -73.944351|       40.707973|6EE7BDC9FC2B9616F...|       CMT|2013-01-01 17:48:59|          CRD|        10.0|       0.0|     0.5|        1.0|          0.0|         11.5|\n",
      "|06EAD4C8D98202F1E...|1B7E8E2E716252398...|      CMT|        1|                 N|2013-01-01 07:10:27|2013-01-01 07:27:19|              1|             1011|          5.4|      -74.001434|      40.746384|       -73.944351|       40.707973|6EE7BDC9FC2B9616F...|       CMT|2013-01-01 22:11:47|          CRD|         4.5|       0.5|     0.5|        1.0|          0.0|          6.5|\n",
      "|06EAD4C8D98202F1E...|1B7E8E2E716252398...|      CMT|        1|                 N|2013-01-01 07:10:27|2013-01-01 07:27:19|              1|             1011|          5.4|      -74.001434|      40.746384|       -73.944351|       40.707973|1B7E8E2E716252398...|       CMT|2013-01-01 06:07:19|          CRD|         5.0|       0.0|     0.5|        1.0|          0.0|          6.5|\n",
      "|06EAD4C8D98202F1E...|1B7E8E2E716252398...|      CMT|        1|                 N|2013-01-01 07:10:27|2013-01-01 07:27:19|              1|             1011|          5.4|      -74.001434|      40.746384|       -73.944351|       40.707973|1B7E8E2E716252398...|       CMT|2013-01-01 14:56:40|          CRD|         9.5|       0.0|     0.5|        2.0|          0.0|         12.0|\n",
      "|06EAD4C8D98202F1E...|1B7E8E2E716252398...|      CMT|        1|                 N|2013-01-01 07:10:27|2013-01-01 07:27:19|              1|             1011|          5.4|      -74.001434|      40.746384|       -73.944351|       40.707973|6EE7BDC9FC2B9616F...|       CMT|2013-01-01 21:28:27|          CRD|        12.0|       0.5|     0.5|        2.6|          0.0|         15.6|\n",
      "|06EAD4C8D98202F1E...|1B7E8E2E716252398...|      CMT|        1|                 N|2013-01-01 07:10:27|2013-01-01 07:27:19|              1|             1011|          5.4|      -74.001434|      40.746384|       -73.944351|       40.707973|6EE7BDC9FC2B9616F...|       CMT|2013-01-01 23:52:08|          CRD|         8.5|       0.5|     0.5|       2.37|          0.0|        11.87|\n",
      "|06EAD4C8D98202F1E...|1B7E8E2E716252398...|      CMT|        1|                 N|2013-01-01 07:10:27|2013-01-01 07:27:19|              1|             1011|          5.4|      -74.001434|      40.746384|       -73.944351|       40.707973|6EE7BDC9FC2B9616F...|       CMT|2013-01-01 18:07:57|          CRD|        13.0|       0.0|     0.5|        2.7|          0.0|         16.2|\n",
      "|06EAD4C8D98202F1E...|1B7E8E2E716252398...|      CMT|        1|                 N|2013-01-01 07:10:27|2013-01-01 07:27:19|              1|             1011|          5.4|      -74.001434|      40.746384|       -73.944351|       40.707973|1B7E8E2E716252398...|       CMT|2013-01-01 14:29:17|          CRD|         4.0|       0.0|     0.5|        0.9|          0.0|          5.4|\n",
      "|06EAD4C8D98202F1E...|1B7E8E2E716252398...|      CMT|        1|                 N|2013-01-01 07:10:27|2013-01-01 07:27:19|              1|             1011|          5.4|      -74.001434|      40.746384|       -73.944351|       40.707973|1B7E8E2E716252398...|       CMT|2013-01-02 07:50:16|          CRD|        12.5|       0.0|     0.5|        2.6|          0.0|         15.6|\n",
      "|06EAD4C8D98202F1E...|1B7E8E2E716252398...|      CMT|        1|                 N|2013-01-01 07:10:27|2013-01-01 07:27:19|              1|             1011|          5.4|      -74.001434|      40.746384|       -73.944351|       40.707973|1B7E8E2E716252398...|       CMT|2013-01-01 11:35:20|          CRD|         5.0|       0.0|     0.5|        1.1|          0.0|          6.6|\n",
      "|06EAD4C8D98202F1E...|1B7E8E2E716252398...|      CMT|        1|                 N|2013-01-01 07:10:27|2013-01-01 07:27:19|              1|             1011|          5.4|      -74.001434|      40.746384|       -73.944351|       40.707973|6EE7BDC9FC2B9616F...|       CMT|2013-01-01 23:42:45|          CRD|         3.5|       0.5|     0.5|        0.5|          0.0|          5.0|\n",
      "|06EAD4C8D98202F1E...|1B7E8E2E716252398...|      CMT|        1|                 N|2013-01-01 07:10:27|2013-01-01 07:27:19|              1|             1011|          5.4|      -74.001434|      40.746384|       -73.944351|       40.707973|1B7E8E2E716252398...|       CMT|2013-01-01 14:02:57|          CRD|        19.5|       0.0|     0.5|        4.0|          0.0|         24.0|\n",
      "+--------------------+--------------------+---------+---------+------------------+-------------------+-------------------+---------------+-----------------+-------------+----------------+---------------+-----------------+----------------+--------------------+----------+-------------------+-------------+------------+----------+--------+-----------+-------------+-------------+\n",
      "only showing top 20 rows\n",
      "\n"
     ]
    }
   ],
   "source": [
    "new_df.show()"
   ]
  },
  {
   "cell_type": "markdown",
   "metadata": {},
   "source": [
    "### Drop some columns from the dataframe"
   ]
  },
  {
   "cell_type": "code",
   "execution_count": 7,
   "metadata": {},
   "outputs": [],
   "source": [
    "taxi_df_train_drop = new_df.drop('medallion').drop('hack_license').drop('total_amount').drop('tolls_amount')"
   ]
  },
  {
   "cell_type": "markdown",
   "metadata": {},
   "source": [
    "taxi_df_train_drop.show()"
   ]
  },
  {
   "cell_type": "markdown",
   "metadata": {},
   "source": [
    "### Filter Column Data with preconditions "
   ]
  },
  {
   "cell_type": "code",
   "execution_count": 10,
   "metadata": {},
   "outputs": [],
   "source": [
    " taxi_df_train__filter=taxi_df_train_drop.filter(\"passenger_count > 0 and passenger_count < 8 AND trip_distance > 0 AND trip_distance < 100 AND \\\n",
    "            trip_time_in_secs > 30 AND trip_time_in_secs < 7200\")"
   ]
  },
  {
   "cell_type": "code",
   "execution_count": 11,
   "metadata": {},
   "outputs": [
    {
     "name": "stdout",
     "output_type": "stream",
     "text": [
      "+---------+---------+------------------+-------------------+-------------------+---------------+-----------------+-------------+----------------+---------------+-----------------+----------------+--------------------+----------+-------------------+-------------+------------+----------+--------+-----------+-------------+-------------+\n",
      "|vendor_id|rate_code|store_and_fwd_flag|    pickup_datetime|   dropoff_datetime|passenger_count|trip_time_in_secs|trip_distance|pickup_longitude|pickup_latitude|dropoff_longitude|dropoff_latitude|        hack_license| vendor_id|    pickup_datetime| payment_type| fare_amount| surcharge| mta_tax| tip_amount| tolls_amount| total_amount|\n",
      "+---------+---------+------------------+-------------------+-------------------+---------------+-----------------+-------------+----------------+---------------+-----------------+----------------+--------------------+----------+-------------------+-------------+------------+----------+--------+-----------+-------------+-------------+\n",
      "|      CMT|        1|                 N|2013-01-01 07:10:27|2013-01-01 07:27:19|              1|             1011|          5.4|      -74.001434|      40.746384|       -73.944351|       40.707973|1B7E8E2E716252398...|       CMT|2013-01-01 07:10:27|          CRD|        18.5|       0.0|     0.5|        2.0|          0.0|         21.0|\n",
      "|      CMT|        1|                 N|2013-01-01 07:10:27|2013-01-01 07:27:19|              1|             1011|          5.4|      -74.001434|      40.746384|       -73.944351|       40.707973|6EE7BDC9FC2B9616F...|       CMT|2013-01-01 02:35:02|          CRD|         4.5|       0.5|     0.5|        1.1|          0.0|          6.6|\n",
      "|      CMT|        1|                 N|2013-01-01 07:10:27|2013-01-01 07:27:19|              1|             1011|          5.4|      -74.001434|      40.746384|       -73.944351|       40.707973|1B7E8E2E716252398...|       CMT|2013-01-01 10:30:18|          CRD|        15.0|       0.0|     0.5|       4.65|          0.0|        20.15|\n",
      "|      CMT|        1|                 N|2013-01-01 07:10:27|2013-01-01 07:27:19|              1|             1011|          5.4|      -74.001434|      40.746384|       -73.944351|       40.707973|1B7E8E2E716252398...|       CMT|2013-01-01 06:14:11|          CRD|         7.5|       0.0|     0.5|        1.0|          0.0|          9.0|\n",
      "|      CMT|        1|                 N|2013-01-01 07:10:27|2013-01-01 07:27:19|              1|             1011|          5.4|      -74.001434|      40.746384|       -73.944351|       40.707973|1B7E8E2E716252398...|       CMT|2013-01-01 13:17:17|          CRD|         6.5|       0.0|     0.5|        1.4|          0.0|          8.4|\n",
      "|      CMT|        1|                 N|2013-01-01 07:10:27|2013-01-01 07:27:19|              1|             1011|          5.4|      -74.001434|      40.746384|       -73.944351|       40.707973|6EE7BDC9FC2B9616F...|       CMT|2013-01-01 02:41:23|          CRD|         6.0|       0.5|     0.5|        1.4|          0.0|          8.4|\n",
      "|      CMT|        1|                 N|2013-01-01 07:10:27|2013-01-01 07:27:19|              1|             1011|          5.4|      -74.001434|      40.746384|       -73.944351|       40.707973|1B7E8E2E716252398...|       CMT|2013-01-01 12:05:18|          CRD|         7.5|       0.0|     0.5|        1.0|          0.0|          9.0|\n",
      "|      CMT|        1|                 N|2013-01-01 07:10:27|2013-01-01 07:27:19|              1|             1011|          5.4|      -74.001434|      40.746384|       -73.944351|       40.707973|6EE7BDC9FC2B9616F...|       CMT|2013-01-01 02:04:45|          CRD|        15.0|       0.5|     0.5|        3.2|          0.0|         19.2|\n",
      "|      CMT|        1|                 N|2013-01-01 07:10:27|2013-01-01 07:27:19|              1|             1011|          5.4|      -74.001434|      40.746384|       -73.944351|       40.707973|6EE7BDC9FC2B9616F...|       CMT|2013-01-01 17:48:59|          CRD|        10.0|       0.0|     0.5|        1.0|          0.0|         11.5|\n",
      "|      CMT|        1|                 N|2013-01-01 07:10:27|2013-01-01 07:27:19|              1|             1011|          5.4|      -74.001434|      40.746384|       -73.944351|       40.707973|6EE7BDC9FC2B9616F...|       CMT|2013-01-01 22:11:47|          CRD|         4.5|       0.5|     0.5|        1.0|          0.0|          6.5|\n",
      "|      CMT|        1|                 N|2013-01-01 07:10:27|2013-01-01 07:27:19|              1|             1011|          5.4|      -74.001434|      40.746384|       -73.944351|       40.707973|1B7E8E2E716252398...|       CMT|2013-01-01 06:07:19|          CRD|         5.0|       0.0|     0.5|        1.0|          0.0|          6.5|\n",
      "|      CMT|        1|                 N|2013-01-01 07:10:27|2013-01-01 07:27:19|              1|             1011|          5.4|      -74.001434|      40.746384|       -73.944351|       40.707973|1B7E8E2E716252398...|       CMT|2013-01-01 14:56:40|          CRD|         9.5|       0.0|     0.5|        2.0|          0.0|         12.0|\n",
      "|      CMT|        1|                 N|2013-01-01 07:10:27|2013-01-01 07:27:19|              1|             1011|          5.4|      -74.001434|      40.746384|       -73.944351|       40.707973|6EE7BDC9FC2B9616F...|       CMT|2013-01-01 21:28:27|          CRD|        12.0|       0.5|     0.5|        2.6|          0.0|         15.6|\n",
      "|      CMT|        1|                 N|2013-01-01 07:10:27|2013-01-01 07:27:19|              1|             1011|          5.4|      -74.001434|      40.746384|       -73.944351|       40.707973|6EE7BDC9FC2B9616F...|       CMT|2013-01-01 23:52:08|          CRD|         8.5|       0.5|     0.5|       2.37|          0.0|        11.87|\n",
      "|      CMT|        1|                 N|2013-01-01 07:10:27|2013-01-01 07:27:19|              1|             1011|          5.4|      -74.001434|      40.746384|       -73.944351|       40.707973|6EE7BDC9FC2B9616F...|       CMT|2013-01-01 18:07:57|          CRD|        13.0|       0.0|     0.5|        2.7|          0.0|         16.2|\n",
      "|      CMT|        1|                 N|2013-01-01 07:10:27|2013-01-01 07:27:19|              1|             1011|          5.4|      -74.001434|      40.746384|       -73.944351|       40.707973|1B7E8E2E716252398...|       CMT|2013-01-01 14:29:17|          CRD|         4.0|       0.0|     0.5|        0.9|          0.0|          5.4|\n",
      "|      CMT|        1|                 N|2013-01-01 07:10:27|2013-01-01 07:27:19|              1|             1011|          5.4|      -74.001434|      40.746384|       -73.944351|       40.707973|1B7E8E2E716252398...|       CMT|2013-01-02 07:50:16|          CRD|        12.5|       0.0|     0.5|        2.6|          0.0|         15.6|\n",
      "|      CMT|        1|                 N|2013-01-01 07:10:27|2013-01-01 07:27:19|              1|             1011|          5.4|      -74.001434|      40.746384|       -73.944351|       40.707973|1B7E8E2E716252398...|       CMT|2013-01-01 11:35:20|          CRD|         5.0|       0.0|     0.5|        1.1|          0.0|          6.6|\n",
      "|      CMT|        1|                 N|2013-01-01 07:10:27|2013-01-01 07:27:19|              1|             1011|          5.4|      -74.001434|      40.746384|       -73.944351|       40.707973|6EE7BDC9FC2B9616F...|       CMT|2013-01-01 23:42:45|          CRD|         3.5|       0.5|     0.5|        0.5|          0.0|          5.0|\n",
      "|      CMT|        1|                 N|2013-01-01 07:10:27|2013-01-01 07:27:19|              1|             1011|          5.4|      -74.001434|      40.746384|       -73.944351|       40.707973|1B7E8E2E716252398...|       CMT|2013-01-01 14:02:57|          CRD|        19.5|       0.0|     0.5|        4.0|          0.0|         24.0|\n",
      "+---------+---------+------------------+-------------------+-------------------+---------------+-----------------+-------------+----------------+---------------+-----------------+----------------+--------------------+----------+-------------------+-------------+------------+----------+--------+-----------+-------------+-------------+\n",
      "only showing top 20 rows\n",
      "\n"
     ]
    }
   ],
   "source": [
    "taxi_df_train__filter.show()"
   ]
  },
  {
   "cell_type": "code",
   "execution_count": null,
   "metadata": {},
   "outputs": [],
   "source": []
  }
 ],
 "metadata": {
  "kernelspec": {
   "display_name": "Python 3",
   "language": "python",
   "name": "python3"
  },
  "language_info": {
   "codemirror_mode": {
    "name": "ipython",
    "version": 3
   },
   "file_extension": ".py",
   "mimetype": "text/x-python",
   "name": "python",
   "nbconvert_exporter": "python",
   "pygments_lexer": "ipython3",
   "version": "3.7.1"
  }
 },
 "nbformat": 4,
 "nbformat_minor": 2
}
