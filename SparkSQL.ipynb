{
 "cells": [
  {
   "cell_type": "markdown",
   "metadata": {},
   "source": [
    "#### Huzaifa Kapasi- MIT License"
   ]
  },
  {
   "cell_type": "markdown",
   "metadata": {},
   "source": [
    "## In this section, we will learn about SQL basic commands and perform Data Preprocessing using it"
   ]
  },
  {
   "cell_type": "code",
   "execution_count": 1,
   "metadata": {},
   "outputs": [],
   "source": [
    "from pyspark import SparkConf\n",
    "from pyspark import SparkContext\n",
    "from pyspark.sql import SQLContext\n",
    "from pyspark.sql.functions import UserDefinedFunction\n",
    "from pyspark.sql.types import *\n",
    "\n",
    "\n",
    "sqlContext = SQLContext(sc)\n",
    "from pyspark.sql import SparkSession\n",
    "spark = SparkSession.builder.master('local[5]').appName('SparkSQL').getOrCreate()"
   ]
  },
  {
   "cell_type": "markdown",
   "metadata": {},
   "source": [
    "### Read the Trip Data from CSV"
   ]
  },
  {
   "cell_type": "code",
   "execution_count": 2,
   "metadata": {},
   "outputs": [],
   "source": [
    "tripData = spark.read.csv(path='H:/Training/PySpark/data/trip_data/trip_data_1.csv', header=True, inferSchema=True)"
   ]
  },
  {
   "cell_type": "markdown",
   "metadata": {},
   "source": [
    "## Read Fare Dataframe from CSV"
   ]
  },
  {
   "cell_type": "code",
   "execution_count": 3,
   "metadata": {},
   "outputs": [],
   "source": [
    "fareData = spark.read.csv(path='H:/Training/PySpark/data/trip_fare/trip_fare_1.csv', header=True, inferSchema=True)"
   ]
  },
  {
   "cell_type": "markdown",
   "metadata": {},
   "source": [
    "## CHECK SCHEMA OF TRIP AND FARE TABLES"
   ]
  },
  {
   "cell_type": "code",
   "execution_count": 4,
   "metadata": {},
   "outputs": [
    {
     "name": "stdout",
     "output_type": "stream",
     "text": [
      "root\n",
      " |-- medallion: string (nullable = true)\n",
      " |-- hack_license: string (nullable = true)\n",
      " |-- vendor_id: string (nullable = true)\n",
      " |-- rate_code: integer (nullable = true)\n",
      " |-- store_and_fwd_flag: string (nullable = true)\n",
      " |-- pickup_datetime: timestamp (nullable = true)\n",
      " |-- dropoff_datetime: timestamp (nullable = true)\n",
      " |-- passenger_count: integer (nullable = true)\n",
      " |-- trip_time_in_secs: integer (nullable = true)\n",
      " |-- trip_distance: double (nullable = true)\n",
      " |-- pickup_longitude: double (nullable = true)\n",
      " |-- pickup_latitude: double (nullable = true)\n",
      " |-- dropoff_longitude: double (nullable = true)\n",
      " |-- dropoff_latitude: double (nullable = true)\n",
      "\n",
      "root\n",
      " |-- medallion: string (nullable = true)\n",
      " |--  hack_license: string (nullable = true)\n",
      " |--  vendor_id: string (nullable = true)\n",
      " |--  pickup_datetime: timestamp (nullable = true)\n",
      " |--  payment_type: string (nullable = true)\n",
      " |--  fare_amount: double (nullable = true)\n",
      " |--  surcharge: double (nullable = true)\n",
      " |--  mta_tax: double (nullable = true)\n",
      " |--  tip_amount: double (nullable = true)\n",
      " |--  tolls_amount: double (nullable = true)\n",
      " |--  total_amount: double (nullable = true)\n",
      "\n"
     ]
    }
   ],
   "source": [
    "tripData.printSchema()\n",
    "fareData.printSchema()"
   ]
  },
  {
   "cell_type": "code",
   "execution_count": 5,
   "metadata": {},
   "outputs": [],
   "source": [
    "## REGISTER DATA-FRAMEs AS A TEMP-TABLEs IN SQL-CONTEXT\n",
    "tripData.createOrReplaceTempView(\"trip\")\n",
    "fareData.createOrReplaceTempView(\"fare\")"
   ]
  },
  {
   "cell_type": "markdown",
   "metadata": {},
   "source": [
    "### Select Statement"
   ]
  },
  {
   "cell_type": "code",
   "execution_count": 5,
   "metadata": {},
   "outputs": [],
   "source": [
    "query=\"SELECT * from trip LIMIT 20\"\n",
    "fareData = spark.sql(query)"
   ]
  },
  {
   "cell_type": "code",
   "execution_count": 6,
   "metadata": {},
   "outputs": [
    {
     "name": "stdout",
     "output_type": "stream",
     "text": [
      "+--------------------+--------------------+---------+---------+------------------+-------------------+-------------------+---------------+-----------------+-------------+----------------+---------------+-----------------+----------------+\n",
      "|           medallion|        hack_license|vendor_id|rate_code|store_and_fwd_flag|    pickup_datetime|   dropoff_datetime|passenger_count|trip_time_in_secs|trip_distance|pickup_longitude|pickup_latitude|dropoff_longitude|dropoff_latitude|\n",
      "+--------------------+--------------------+---------+---------+------------------+-------------------+-------------------+---------------+-----------------+-------------+----------------+---------------+-----------------+----------------+\n",
      "|89D227B655E5C82AE...|BA96DE419E711691B...|      CMT|        1|                 N|2013-01-01 15:11:48|2013-01-01 15:18:10|              4|              382|          1.0|      -73.978165|      40.757977|       -73.989838|       40.751171|\n",
      "|0BD7C8F5BA12B88E0...|9FD8F69F0804BDB55...|      CMT|        1|                 N|2013-01-06 00:18:35|2013-01-06 00:22:54|              1|              259|          1.5|      -74.006683|      40.731781|       -73.994499|        40.75066|\n",
      "|0BD7C8F5BA12B88E0...|9FD8F69F0804BDB55...|      CMT|        1|                 N|2013-01-05 18:49:41|2013-01-05 18:54:23|              1|              282|          1.1|      -74.004707|       40.73777|       -74.009834|       40.726002|\n",
      "|DFD2202EE08F7A8DC...|51EE87E3205C985EF...|      CMT|        1|                 N|2013-01-07 23:54:15|2013-01-07 23:58:20|              2|              244|          0.7|      -73.974602|      40.759945|       -73.984734|       40.759388|\n",
      "|DFD2202EE08F7A8DC...|51EE87E3205C985EF...|      CMT|        1|                 N|2013-01-07 23:25:03|2013-01-07 23:34:24|              1|              560|          2.1|       -73.97625|      40.748528|       -74.002586|       40.747868|\n",
      "|20D9ECB2CA0767CF7...|598CCE5B9C1918568...|      CMT|        1|                 N|2013-01-07 15:27:48|2013-01-07 15:38:37|              1|              648|          1.7|      -73.966743|      40.764252|       -73.983322|       40.743763|\n",
      "|496644932DF393260...|513189AD756FF14FE...|      CMT|        1|                 N|2013-01-08 11:01:15|2013-01-08 11:08:14|              1|              418|          0.8|      -73.995804|      40.743977|       -74.007416|       40.744343|\n",
      "|0B57B9633A2FECD3D...|CCD4367B417ED6634...|      CMT|        1|                 N|2013-01-07 12:39:18|2013-01-07 13:10:56|              3|             1898|         10.7|      -73.989937|      40.756775|        -73.86525|        40.77063|\n",
      "|2C0E91FF20A856C89...|1DA2F6543A62B8ED9...|      CMT|        1|                 N|2013-01-07 18:15:47|2013-01-07 18:20:47|              1|              299|          0.8|      -73.980072|      40.743137|       -73.982712|       40.735336|\n",
      "|2D4B95E2FA7B2E851...|CD2F522EEE1FF5F5A...|      CMT|        1|                 N|2013-01-07 15:33:28|2013-01-07 15:49:26|              2|              957|          2.5|      -73.977936|      40.786983|       -73.952919|        40.80637|\n",
      "|E12F6AF991172EAC3...|06918214E951FA000...|      CMT|        1|                 N|2013-01-08 13:11:52|2013-01-08 13:19:50|              1|              477|          1.3|      -73.982452|      40.773167|       -73.964134|       40.773815|\n",
      "|E12F6AF991172EAC3...|06918214E951FA000...|      CMT|        1|                 N|2013-01-08 09:50:05|2013-01-08 10:02:54|              1|              768|          0.7|       -73.99556|      40.749294|       -73.988686|       40.759052|\n",
      "|78FFD9CD0CDA541F3...|E949C583ECF62C8F0...|      CMT|        1|                 N|2013-01-10 12:07:08|2013-01-10 12:17:29|              1|              620|          2.3|      -73.971497|      40.791321|       -73.964478|       40.775921|\n",
      "|237F49C3ECC11F502...|93C363DDF8ED9385D...|      CMT|        1|                 N|2013-01-07 07:35:47|2013-01-07 07:46:00|              1|              612|          2.3|       -73.98851|      40.774307|       -73.981094|       40.755325|\n",
      "|3349F919AA8AE5DC9...|7CE849FEF67514F08...|      CMT|        1|                 N|2013-01-10 15:42:29|2013-01-10 16:04:02|              1|             1293|          3.2|      -73.994911|      40.723221|       -73.971558|       40.761612|\n",
      "|3349F919AA8AE5DC9...|7CE849FEF67514F08...|      CMT|        1|                 N|2013-01-10 14:27:28|2013-01-10 14:45:21|              1|             1073|          4.4|      -74.010391|      40.708702|       -73.987846|       40.756104|\n",
      "|4C005EEBAA7BF26B8...|351BE7D984BE17DB2...|      CMT|        1|                 N|2013-01-07 22:09:59|2013-01-07 22:19:50|              1|              591|          1.7|      -73.973732|      40.756287|       -73.998413|       40.756832|\n",
      "|7D99C30FCE69B1A9D...|460C3F57DD9CB2265...|      CMT|        1|                 N|2013-01-07 17:18:16|2013-01-07 17:20:55|              1|              158|          0.7|      -73.968925|      40.767704|        -73.96199|       40.776566|\n",
      "|E6FBF80668FE0611A...|36773E80775F26CD1...|      CMT|        1|                 N|2013-01-07 06:08:51|2013-01-07 06:13:14|              1|              262|          1.7|       -73.96212|      40.769737|       -73.979561|        40.75539|\n",
      "|0C5296F3C8B16E702...|D2363240A9295EF57...|      CMT|        1|                 N|2013-01-07 22:25:46|2013-01-07 22:36:56|              1|              669|          2.3|      -73.989708|      40.756714|       -73.977615|       40.787575|\n",
      "+--------------------+--------------------+---------+---------+------------------+-------------------+-------------------+---------------+-----------------+-------------+----------------+---------------+-----------------+----------------+\n",
      "\n"
     ]
    }
   ],
   "source": [
    "fareData.show()"
   ]
  },
  {
   "cell_type": "code",
   "execution_count": 7,
   "metadata": {},
   "outputs": [
    {
     "name": "stdout",
     "output_type": "stream",
     "text": [
      "+--------------------+\n",
      "|           medallion|\n",
      "+--------------------+\n",
      "|89D227B655E5C82AE...|\n",
      "|0BD7C8F5BA12B88E0...|\n",
      "|0BD7C8F5BA12B88E0...|\n",
      "|DFD2202EE08F7A8DC...|\n",
      "|DFD2202EE08F7A8DC...|\n",
      "|20D9ECB2CA0767CF7...|\n",
      "|496644932DF393260...|\n",
      "|0B57B9633A2FECD3D...|\n",
      "|2C0E91FF20A856C89...|\n",
      "|2D4B95E2FA7B2E851...|\n",
      "|E12F6AF991172EAC3...|\n",
      "|E12F6AF991172EAC3...|\n",
      "|78FFD9CD0CDA541F3...|\n",
      "|237F49C3ECC11F502...|\n",
      "|3349F919AA8AE5DC9...|\n",
      "|3349F919AA8AE5DC9...|\n",
      "|4C005EEBAA7BF26B8...|\n",
      "|7D99C30FCE69B1A9D...|\n",
      "|E6FBF80668FE0611A...|\n",
      "|0C5296F3C8B16E702...|\n",
      "+--------------------+\n",
      "\n"
     ]
    }
   ],
   "source": [
    "query=\"SELECT medallion from trip LIMIT 20\"\n",
    "fareData = spark.sql(query)\n",
    "fareData.show()"
   ]
  },
  {
   "cell_type": "code",
   "execution_count": 8,
   "metadata": {},
   "outputs": [
    {
     "name": "stdout",
     "output_type": "stream",
     "text": [
      "+--------------------+-------------+\n",
      "|           medallion|trip_distance|\n",
      "+--------------------+-------------+\n",
      "|89D227B655E5C82AE...|          1.0|\n",
      "|0BD7C8F5BA12B88E0...|          1.5|\n",
      "|0BD7C8F5BA12B88E0...|          1.1|\n",
      "|DFD2202EE08F7A8DC...|          0.7|\n",
      "|DFD2202EE08F7A8DC...|          2.1|\n",
      "|20D9ECB2CA0767CF7...|          1.7|\n",
      "|496644932DF393260...|          0.8|\n",
      "|0B57B9633A2FECD3D...|         10.7|\n",
      "|2C0E91FF20A856C89...|          0.8|\n",
      "|2D4B95E2FA7B2E851...|          2.5|\n",
      "|E12F6AF991172EAC3...|          1.3|\n",
      "|E12F6AF991172EAC3...|          0.7|\n",
      "|78FFD9CD0CDA541F3...|          2.3|\n",
      "|237F49C3ECC11F502...|          2.3|\n",
      "|3349F919AA8AE5DC9...|          3.2|\n",
      "|3349F919AA8AE5DC9...|          4.4|\n",
      "|4C005EEBAA7BF26B8...|          1.7|\n",
      "|7D99C30FCE69B1A9D...|          0.7|\n",
      "|E6FBF80668FE0611A...|          1.7|\n",
      "|0C5296F3C8B16E702...|          2.3|\n",
      "+--------------------+-------------+\n",
      "\n"
     ]
    }
   ],
   "source": [
    "query=\"SELECT medallion,trip_distance from trip LIMIT 20\"\n",
    "fareData = spark.sql(query)\n",
    "fareData.show()"
   ]
  },
  {
   "cell_type": "code",
   "execution_count": 9,
   "metadata": {},
   "outputs": [
    {
     "name": "stdout",
     "output_type": "stream",
     "text": [
      "+--------------------+-------------+\n",
      "|           medallion|trip_distance|\n",
      "+--------------------+-------------+\n",
      "|0B57B9633A2FECD3D...|         10.7|\n",
      "|2D4B95E2FA7B2E851...|          2.5|\n",
      "|3349F919AA8AE5DC9...|          3.2|\n",
      "|3349F919AA8AE5DC9...|          4.4|\n",
      "|D8AADA4E722C87C10...|         17.5|\n",
      "|B6FC8357E0D53B0F1...|          3.8|\n",
      "|8E189DABE265CC03F...|         10.2|\n",
      "|F1EF8290A54338B13...|          6.5|\n",
      "|0F9E0728AB1E40D5C...|          2.8|\n",
      "|33A0B414EB87DB253...|          5.2|\n",
      "|24B56A4A0AC119529...|          2.4|\n",
      "|7E3256C342CAFB3C2...|          5.5|\n",
      "|764CA5AE502C0FEC9...|          3.3|\n",
      "|CD9DEF073BAB75B8B...|         11.2|\n",
      "|DD98E2C3AF5C47B44...|          3.0|\n",
      "|26FC1764E8F96A823...|          4.5|\n",
      "|4A4DA06C65CFA356C...|          2.5|\n",
      "|99115D1EA0AE33939...|          5.7|\n",
      "|8F9B593AE29F10B40...|         10.3|\n",
      "|D8AADA4E722C87C10...|          5.9|\n",
      "+--------------------+-------------+\n",
      "\n"
     ]
    }
   ],
   "source": [
    "query=\"SELECT medallion,trip_distance from trip WHERE trip_distance > 2.3 LIMIT 20\"\n",
    "fareData = spark.sql(query)\n",
    "fareData.show()"
   ]
  },
  {
   "cell_type": "markdown",
   "metadata": {},
   "source": [
    "### Count Statement"
   ]
  },
  {
   "cell_type": "code",
   "execution_count": 10,
   "metadata": {},
   "outputs": [
    {
     "name": "stdout",
     "output_type": "stream",
     "text": [
      "+--------+\n",
      "|count(1)|\n",
      "+--------+\n",
      "|14776615|\n",
      "+--------+\n",
      "\n"
     ]
    }
   ],
   "source": [
    "query=\"SELECT COUNT(*) from trip \"\n",
    "fareData = spark.sql(query)\n",
    "fareData.show()"
   ]
  },
  {
   "cell_type": "code",
   "execution_count": 11,
   "metadata": {},
   "outputs": [
    {
     "name": "stdout",
     "output_type": "stream",
     "text": [
      "+--------------------+\n",
      "|count(trip_distance)|\n",
      "+--------------------+\n",
      "|              152938|\n",
      "+--------------------+\n",
      "\n"
     ]
    }
   ],
   "source": [
    "query=\"SELECT COUNT(trip_distance) from trip WHERE trip_distance ==2.3 \"\n",
    "fareData = spark.sql(query)\n",
    "fareData.show()"
   ]
  },
  {
   "cell_type": "markdown",
   "metadata": {},
   "source": [
    "## Distinct Statement"
   ]
  },
  {
   "cell_type": "code",
   "execution_count": 12,
   "metadata": {},
   "outputs": [
    {
     "name": "stdout",
     "output_type": "stream",
     "text": [
      "+-------------+\n",
      "|trip_distance|\n",
      "+-------------+\n",
      "|        10.65|\n",
      "|         0.66|\n",
      "|         2.86|\n",
      "|         3.26|\n",
      "|        17.56|\n",
      "|         9.13|\n",
      "|         14.9|\n",
      "|        17.52|\n",
      "|        12.32|\n",
      "|        17.95|\n",
      "|         8.51|\n",
      "|        19.98|\n",
      "|        23.04|\n",
      "|         13.4|\n",
      "|         15.5|\n",
      "|        26.72|\n",
      "|         26.7|\n",
      "|        40.53|\n",
      "|         49.8|\n",
      "|         76.4|\n",
      "+-------------+\n",
      "only showing top 20 rows\n",
      "\n"
     ]
    }
   ],
   "source": [
    "query=\"SELECT DISTINCT trip_distance from trip\"\n",
    "fareData = spark.sql(query)\n",
    "fareData.show()"
   ]
  },
  {
   "cell_type": "markdown",
   "metadata": {},
   "source": [
    "### Order BY Statement\n",
    "\n",
    "#### SELECT   select_list FROM   table_name ORDER BY"
   ]
  },
  {
   "cell_type": "code",
   "execution_count": 13,
   "metadata": {},
   "outputs": [
    {
     "name": "stdout",
     "output_type": "stream",
     "text": [
      "+-------------------+\n",
      "|    pickup_datetime|\n",
      "+-------------------+\n",
      "|2013-01-31 23:59:59|\n",
      "|2013-01-31 23:59:59|\n",
      "|2013-01-31 23:59:58|\n",
      "|2013-01-31 23:59:58|\n",
      "|2013-01-31 23:59:58|\n",
      "|2013-01-31 23:59:58|\n",
      "|2013-01-31 23:59:56|\n",
      "|2013-01-31 23:59:55|\n",
      "|2013-01-31 23:59:55|\n",
      "|2013-01-31 23:59:55|\n",
      "|2013-01-31 23:59:55|\n",
      "|2013-01-31 23:59:55|\n",
      "|2013-01-31 23:59:54|\n",
      "|2013-01-31 23:59:54|\n",
      "|2013-01-31 23:59:53|\n",
      "|2013-01-31 23:59:53|\n",
      "|2013-01-31 23:59:53|\n",
      "|2013-01-31 23:59:53|\n",
      "|2013-01-31 23:59:51|\n",
      "|2013-01-31 23:59:51|\n",
      "+-------------------+\n",
      "only showing top 20 rows\n",
      "\n"
     ]
    }
   ],
   "source": [
    "query=\"SELECT pickup_datetime from trip ORDER BY pickup_datetime DESC\"\n",
    "fareData = spark.sql(query)\n",
    "fareData.show()"
   ]
  },
  {
   "cell_type": "markdown",
   "metadata": {},
   "source": [
    "### Alias Table Name\n",
    "### SELECT * FROM table_name [AS] alias_name"
   ]
  },
  {
   "cell_type": "code",
   "execution_count": 14,
   "metadata": {},
   "outputs": [
    {
     "name": "stdout",
     "output_type": "stream",
     "text": [
      "+--------------------+--------------------+---------+---------+------------------+-------------------+-------------------+---------------+-----------------+-------------+----------------+---------------+-----------------+----------------+\n",
      "|           medallion|        hack_license|vendor_id|rate_code|store_and_fwd_flag|    pickup_datetime|   dropoff_datetime|passenger_count|trip_time_in_secs|trip_distance|pickup_longitude|pickup_latitude|dropoff_longitude|dropoff_latitude|\n",
      "+--------------------+--------------------+---------+---------+------------------+-------------------+-------------------+---------------+-----------------+-------------+----------------+---------------+-----------------+----------------+\n",
      "|89D227B655E5C82AE...|BA96DE419E711691B...|      CMT|        1|                 N|2013-01-01 15:11:48|2013-01-01 15:18:10|              4|              382|          1.0|      -73.978165|      40.757977|       -73.989838|       40.751171|\n",
      "|0BD7C8F5BA12B88E0...|9FD8F69F0804BDB55...|      CMT|        1|                 N|2013-01-06 00:18:35|2013-01-06 00:22:54|              1|              259|          1.5|      -74.006683|      40.731781|       -73.994499|        40.75066|\n",
      "|0BD7C8F5BA12B88E0...|9FD8F69F0804BDB55...|      CMT|        1|                 N|2013-01-05 18:49:41|2013-01-05 18:54:23|              1|              282|          1.1|      -74.004707|       40.73777|       -74.009834|       40.726002|\n",
      "|DFD2202EE08F7A8DC...|51EE87E3205C985EF...|      CMT|        1|                 N|2013-01-07 23:54:15|2013-01-07 23:58:20|              2|              244|          0.7|      -73.974602|      40.759945|       -73.984734|       40.759388|\n",
      "|DFD2202EE08F7A8DC...|51EE87E3205C985EF...|      CMT|        1|                 N|2013-01-07 23:25:03|2013-01-07 23:34:24|              1|              560|          2.1|       -73.97625|      40.748528|       -74.002586|       40.747868|\n",
      "|20D9ECB2CA0767CF7...|598CCE5B9C1918568...|      CMT|        1|                 N|2013-01-07 15:27:48|2013-01-07 15:38:37|              1|              648|          1.7|      -73.966743|      40.764252|       -73.983322|       40.743763|\n",
      "|496644932DF393260...|513189AD756FF14FE...|      CMT|        1|                 N|2013-01-08 11:01:15|2013-01-08 11:08:14|              1|              418|          0.8|      -73.995804|      40.743977|       -74.007416|       40.744343|\n",
      "|0B57B9633A2FECD3D...|CCD4367B417ED6634...|      CMT|        1|                 N|2013-01-07 12:39:18|2013-01-07 13:10:56|              3|             1898|         10.7|      -73.989937|      40.756775|        -73.86525|        40.77063|\n",
      "|2C0E91FF20A856C89...|1DA2F6543A62B8ED9...|      CMT|        1|                 N|2013-01-07 18:15:47|2013-01-07 18:20:47|              1|              299|          0.8|      -73.980072|      40.743137|       -73.982712|       40.735336|\n",
      "|2D4B95E2FA7B2E851...|CD2F522EEE1FF5F5A...|      CMT|        1|                 N|2013-01-07 15:33:28|2013-01-07 15:49:26|              2|              957|          2.5|      -73.977936|      40.786983|       -73.952919|        40.80637|\n",
      "|E12F6AF991172EAC3...|06918214E951FA000...|      CMT|        1|                 N|2013-01-08 13:11:52|2013-01-08 13:19:50|              1|              477|          1.3|      -73.982452|      40.773167|       -73.964134|       40.773815|\n",
      "|E12F6AF991172EAC3...|06918214E951FA000...|      CMT|        1|                 N|2013-01-08 09:50:05|2013-01-08 10:02:54|              1|              768|          0.7|       -73.99556|      40.749294|       -73.988686|       40.759052|\n",
      "|78FFD9CD0CDA541F3...|E949C583ECF62C8F0...|      CMT|        1|                 N|2013-01-10 12:07:08|2013-01-10 12:17:29|              1|              620|          2.3|      -73.971497|      40.791321|       -73.964478|       40.775921|\n",
      "|237F49C3ECC11F502...|93C363DDF8ED9385D...|      CMT|        1|                 N|2013-01-07 07:35:47|2013-01-07 07:46:00|              1|              612|          2.3|       -73.98851|      40.774307|       -73.981094|       40.755325|\n",
      "|3349F919AA8AE5DC9...|7CE849FEF67514F08...|      CMT|        1|                 N|2013-01-10 15:42:29|2013-01-10 16:04:02|              1|             1293|          3.2|      -73.994911|      40.723221|       -73.971558|       40.761612|\n",
      "|3349F919AA8AE5DC9...|7CE849FEF67514F08...|      CMT|        1|                 N|2013-01-10 14:27:28|2013-01-10 14:45:21|              1|             1073|          4.4|      -74.010391|      40.708702|       -73.987846|       40.756104|\n",
      "|4C005EEBAA7BF26B8...|351BE7D984BE17DB2...|      CMT|        1|                 N|2013-01-07 22:09:59|2013-01-07 22:19:50|              1|              591|          1.7|      -73.973732|      40.756287|       -73.998413|       40.756832|\n",
      "|7D99C30FCE69B1A9D...|460C3F57DD9CB2265...|      CMT|        1|                 N|2013-01-07 17:18:16|2013-01-07 17:20:55|              1|              158|          0.7|      -73.968925|      40.767704|        -73.96199|       40.776566|\n",
      "|E6FBF80668FE0611A...|36773E80775F26CD1...|      CMT|        1|                 N|2013-01-07 06:08:51|2013-01-07 06:13:14|              1|              262|          1.7|       -73.96212|      40.769737|       -73.979561|        40.75539|\n",
      "|0C5296F3C8B16E702...|D2363240A9295EF57...|      CMT|        1|                 N|2013-01-07 22:25:46|2013-01-07 22:36:56|              1|              669|          2.3|      -73.989708|      40.756714|       -73.977615|       40.787575|\n",
      "+--------------------+--------------------+---------+---------+------------------+-------------------+-------------------+---------------+-----------------+-------------+----------------+---------------+-----------------+----------------+\n",
      "\n"
     ]
    }
   ],
   "source": [
    "query=\"SELECT * from trip t LIMIT 20\" # AS can be dropped\n",
    "fareData = spark.sql(query)\n",
    "fareData.show()"
   ]
  },
  {
   "cell_type": "code",
   "execution_count": 7,
   "metadata": {},
   "outputs": [
    {
     "name": "stdout",
     "output_type": "stream",
     "text": [
      "+-------------------+\n",
      "|    pickup_datetime|\n",
      "+-------------------+\n",
      "|2013-01-01 15:11:48|\n",
      "|2013-01-06 00:18:35|\n",
      "|2013-01-05 18:49:41|\n",
      "|2013-01-07 23:54:15|\n",
      "|2013-01-07 23:25:03|\n",
      "|2013-01-07 15:27:48|\n",
      "|2013-01-08 11:01:15|\n",
      "|2013-01-07 12:39:18|\n",
      "|2013-01-07 18:15:47|\n",
      "|2013-01-07 15:33:28|\n",
      "|2013-01-08 13:11:52|\n",
      "|2013-01-08 09:50:05|\n",
      "|2013-01-10 12:07:08|\n",
      "|2013-01-07 07:35:47|\n",
      "|2013-01-10 15:42:29|\n",
      "|2013-01-10 14:27:28|\n",
      "|2013-01-07 22:09:59|\n",
      "|2013-01-07 17:18:16|\n",
      "|2013-01-07 06:08:51|\n",
      "|2013-01-07 22:25:46|\n",
      "+-------------------+\n",
      "\n"
     ]
    }
   ],
   "source": [
    "query=\"SELECT t.pickup_datetime from trip t LIMIT 20\"\n",
    "fareData = spark.sql(query)\n",
    "fareData.show()"
   ]
  },
  {
   "cell_type": "markdown",
   "metadata": {},
   "source": [
    "### Cross Joint"
   ]
  },
  {
   "cell_type": "markdown",
   "metadata": {},
   "source": [
    "![Cross joint](../crossjoint3.png)"
   ]
  },
  {
   "cell_type": "code",
   "execution_count": 5,
   "metadata": {
    "scrolled": true
   },
   "outputs": [
    {
     "name": "stdout",
     "output_type": "stream",
     "text": [
      "+--------------------+--------------------+---------+---------+------------------+-------------------+-------------------+---------------+-----------------+-------------+----------------+---------------+-----------------+----------------+--------------------+--------------------+----------+-------------------+-------------+------------+----------+--------+-----------+-------------+-------------+\n",
      "|           medallion|        hack_license|vendor_id|rate_code|store_and_fwd_flag|    pickup_datetime|   dropoff_datetime|passenger_count|trip_time_in_secs|trip_distance|pickup_longitude|pickup_latitude|dropoff_longitude|dropoff_latitude|           medallion|        hack_license| vendor_id|    pickup_datetime| payment_type| fare_amount| surcharge| mta_tax| tip_amount| tolls_amount| total_amount|\n",
      "+--------------------+--------------------+---------+---------+------------------+-------------------+-------------------+---------------+-----------------+-------------+----------------+---------------+-----------------+----------------+--------------------+--------------------+----------+-------------------+-------------+------------+----------+--------+-----------+-------------+-------------+\n",
      "|89D227B655E5C82AE...|BA96DE419E711691B...|      CMT|        1|                 N|2013-01-01 15:11:48|2013-01-01 15:18:10|              4|              382|          1.0|      -73.978165|      40.757977|       -73.989838|       40.751171|89D227B655E5C82AE...|BA96DE419E711691B...|       CMT|2013-01-01 15:11:48|          CSH|         6.5|       0.0|     0.5|        0.0|          0.0|          7.0|\n",
      "|89D227B655E5C82AE...|BA96DE419E711691B...|      CMT|        1|                 N|2013-01-01 15:11:48|2013-01-01 15:18:10|              4|              382|          1.0|      -73.978165|      40.757977|       -73.989838|       40.751171|0BD7C8F5BA12B88E0...|9FD8F69F0804BDB55...|       CMT|2013-01-06 00:18:35|          CSH|         6.0|       0.5|     0.5|        0.0|          0.0|          7.0|\n",
      "|89D227B655E5C82AE...|BA96DE419E711691B...|      CMT|        1|                 N|2013-01-01 15:11:48|2013-01-01 15:18:10|              4|              382|          1.0|      -73.978165|      40.757977|       -73.989838|       40.751171|0BD7C8F5BA12B88E0...|9FD8F69F0804BDB55...|       CMT|2013-01-05 18:49:41|          CSH|         5.5|       1.0|     0.5|        0.0|          0.0|          7.0|\n",
      "|89D227B655E5C82AE...|BA96DE419E711691B...|      CMT|        1|                 N|2013-01-01 15:11:48|2013-01-01 15:18:10|              4|              382|          1.0|      -73.978165|      40.757977|       -73.989838|       40.751171|DFD2202EE08F7A8DC...|51EE87E3205C985EF...|       CMT|2013-01-07 23:54:15|          CSH|         5.0|       0.5|     0.5|        0.0|          0.0|          6.0|\n",
      "|89D227B655E5C82AE...|BA96DE419E711691B...|      CMT|        1|                 N|2013-01-01 15:11:48|2013-01-01 15:18:10|              4|              382|          1.0|      -73.978165|      40.757977|       -73.989838|       40.751171|DFD2202EE08F7A8DC...|51EE87E3205C985EF...|       CMT|2013-01-07 23:25:03|          CSH|         9.5|       0.5|     0.5|        0.0|          0.0|         10.5|\n",
      "|89D227B655E5C82AE...|BA96DE419E711691B...|      CMT|        1|                 N|2013-01-01 15:11:48|2013-01-01 15:18:10|              4|              382|          1.0|      -73.978165|      40.757977|       -73.989838|       40.751171|20D9ECB2CA0767CF7...|598CCE5B9C1918568...|       CMT|2013-01-07 15:27:48|          CSH|         9.5|       0.0|     0.5|        0.0|          0.0|         10.0|\n",
      "|89D227B655E5C82AE...|BA96DE419E711691B...|      CMT|        1|                 N|2013-01-01 15:11:48|2013-01-01 15:18:10|              4|              382|          1.0|      -73.978165|      40.757977|       -73.989838|       40.751171|496644932DF393260...|513189AD756FF14FE...|       CMT|2013-01-08 11:01:15|          CSH|         6.0|       0.0|     0.5|        0.0|          0.0|          6.5|\n",
      "|89D227B655E5C82AE...|BA96DE419E711691B...|      CMT|        1|                 N|2013-01-01 15:11:48|2013-01-01 15:18:10|              4|              382|          1.0|      -73.978165|      40.757977|       -73.989838|       40.751171|0B57B9633A2FECD3D...|CCD4367B417ED6634...|       CMT|2013-01-07 12:39:18|          CSH|        34.0|       0.0|     0.5|        0.0|          4.8|         39.3|\n",
      "|89D227B655E5C82AE...|BA96DE419E711691B...|      CMT|        1|                 N|2013-01-01 15:11:48|2013-01-01 15:18:10|              4|              382|          1.0|      -73.978165|      40.757977|       -73.989838|       40.751171|2C0E91FF20A856C89...|1DA2F6543A62B8ED9...|       CMT|2013-01-07 18:15:47|          CSH|         5.5|       1.0|     0.5|        0.0|          0.0|          7.0|\n",
      "|89D227B655E5C82AE...|BA96DE419E711691B...|      CMT|        1|                 N|2013-01-01 15:11:48|2013-01-01 15:18:10|              4|              382|          1.0|      -73.978165|      40.757977|       -73.989838|       40.751171|2D4B95E2FA7B2E851...|CD2F522EEE1FF5F5A...|       CMT|2013-01-07 15:33:28|          CSH|        13.0|       0.0|     0.5|        0.0|          0.0|         13.5|\n",
      "|89D227B655E5C82AE...|BA96DE419E711691B...|      CMT|        1|                 N|2013-01-01 15:11:48|2013-01-01 15:18:10|              4|              382|          1.0|      -73.978165|      40.757977|       -73.989838|       40.751171|E12F6AF991172EAC3...|06918214E951FA000...|       CMT|2013-01-08 13:11:52|          CSH|         7.5|       0.0|     0.5|        0.0|          0.0|          8.0|\n",
      "|89D227B655E5C82AE...|BA96DE419E711691B...|      CMT|        1|                 N|2013-01-01 15:11:48|2013-01-01 15:18:10|              4|              382|          1.0|      -73.978165|      40.757977|       -73.989838|       40.751171|E12F6AF991172EAC3...|06918214E951FA000...|       CMT|2013-01-08 09:50:05|          CSH|         9.0|       0.0|     0.5|        0.0|          0.0|          9.5|\n",
      "|89D227B655E5C82AE...|BA96DE419E711691B...|      CMT|        1|                 N|2013-01-01 15:11:48|2013-01-01 15:18:10|              4|              382|          1.0|      -73.978165|      40.757977|       -73.989838|       40.751171|78FFD9CD0CDA541F3...|E949C583ECF62C8F0...|       CMT|2013-01-10 12:07:08|          CSH|         9.5|       0.0|     0.5|        0.0|          0.0|         10.0|\n",
      "|89D227B655E5C82AE...|BA96DE419E711691B...|      CMT|        1|                 N|2013-01-01 15:11:48|2013-01-01 15:18:10|              4|              382|          1.0|      -73.978165|      40.757977|       -73.989838|       40.751171|237F49C3ECC11F502...|93C363DDF8ED9385D...|       CMT|2013-01-07 07:35:47|          CSH|        10.0|       0.0|     0.5|        0.0|          0.0|         10.5|\n",
      "|89D227B655E5C82AE...|BA96DE419E711691B...|      CMT|        1|                 N|2013-01-01 15:11:48|2013-01-01 15:18:10|              4|              382|          1.0|      -73.978165|      40.757977|       -73.989838|       40.751171|3349F919AA8AE5DC9...|7CE849FEF67514F08...|       CMT|2013-01-10 15:42:29|          CSH|        15.5|       0.0|     0.5|        0.0|          0.0|         16.0|\n",
      "|89D227B655E5C82AE...|BA96DE419E711691B...|      CMT|        1|                 N|2013-01-01 15:11:48|2013-01-01 15:18:10|              4|              382|          1.0|      -73.978165|      40.757977|       -73.989838|       40.751171|3349F919AA8AE5DC9...|7CE849FEF67514F08...|       CMT|2013-01-10 14:27:28|          CSH|        16.5|       0.0|     0.5|        0.0|          0.0|         17.0|\n",
      "|89D227B655E5C82AE...|BA96DE419E711691B...|      CMT|        1|                 N|2013-01-01 15:11:48|2013-01-01 15:18:10|              4|              382|          1.0|      -73.978165|      40.757977|       -73.989838|       40.751171|4C005EEBAA7BF26B8...|351BE7D984BE17DB2...|       CMT|2013-01-07 22:09:59|          CSH|         9.0|       0.5|     0.5|        0.0|          0.0|         10.0|\n",
      "|89D227B655E5C82AE...|BA96DE419E711691B...|      CMT|        1|                 N|2013-01-01 15:11:48|2013-01-01 15:18:10|              4|              382|          1.0|      -73.978165|      40.757977|       -73.989838|       40.751171|7D99C30FCE69B1A9D...|460C3F57DD9CB2265...|       CMT|2013-01-07 17:18:16|          CSH|         4.5|       1.0|     0.5|        0.0|          0.0|          6.0|\n",
      "|89D227B655E5C82AE...|BA96DE419E711691B...|      CMT|        1|                 N|2013-01-01 15:11:48|2013-01-01 15:18:10|              4|              382|          1.0|      -73.978165|      40.757977|       -73.989838|       40.751171|E6FBF80668FE0611A...|36773E80775F26CD1...|       CMT|2013-01-07 06:08:51|          CSH|         7.0|       0.0|     0.5|        0.0|          0.0|          7.5|\n",
      "|89D227B655E5C82AE...|BA96DE419E711691B...|      CMT|        1|                 N|2013-01-01 15:11:48|2013-01-01 15:18:10|              4|              382|          1.0|      -73.978165|      40.757977|       -73.989838|       40.751171|0C5296F3C8B16E702...|D2363240A9295EF57...|       CMT|2013-01-07 22:25:46|          CSH|        10.5|       0.5|     0.5|        0.0|          0.0|         11.5|\n",
      "+--------------------+--------------------+---------+---------+------------------+-------------------+-------------------+---------------+-----------------+-------------+----------------+---------------+-----------------+----------------+--------------------+--------------------+----------+-------------------+-------------+------------+----------+--------+-----------+-------------+-------------+\n",
      "only showing top 20 rows\n",
      "\n"
     ]
    }
   ],
   "source": [
    "query=\"SELECT * from trip CROSS JOIN fare\"\n",
    "fareData = spark.sql(query)\n",
    "fareData.show()"
   ]
  },
  {
   "cell_type": "code",
   "execution_count": 8,
   "metadata": {},
   "outputs": [],
   "source": [
    "sqlStatement = \"\"\"SELECT t.medallion, \n",
    "  t.passenger_count, t.trip_distance, t.trip_time_in_secs \n",
    "  FROM trip t, fare f  \n",
    "  WHERE t.medallion = f.medallion\n",
    "  AND t.passenger_count > 0 and t.passenger_count < 8 \n",
    "  AND t.trip_distance <= 100 AND t.trip_time_in_secs >= 30 \n",
    "  AND t.trip_time_in_secs <= 7200 AND t.rate_code <= 5\n",
    "  \"\"\"\n",
    "trip_fareDF = spark.sql(sqlStatement)"
   ]
  },
  {
   "cell_type": "code",
   "execution_count": 9,
   "metadata": {},
   "outputs": [
    {
     "name": "stdout",
     "output_type": "stream",
     "text": [
      "+--------------------+---------------+-------------+-----------------+\n",
      "|           medallion|passenger_count|trip_distance|trip_time_in_secs|\n",
      "+--------------------+---------------+-------------+-----------------+\n",
      "|06EAD4C8D98202F1E...|              1|          5.4|             1011|\n",
      "|06EAD4C8D98202F1E...|              1|          5.4|             1011|\n",
      "|06EAD4C8D98202F1E...|              1|          5.4|             1011|\n",
      "|06EAD4C8D98202F1E...|              1|          5.4|             1011|\n",
      "|06EAD4C8D98202F1E...|              1|          5.4|             1011|\n",
      "|06EAD4C8D98202F1E...|              1|          5.4|             1011|\n",
      "|06EAD4C8D98202F1E...|              1|          5.4|             1011|\n",
      "|06EAD4C8D98202F1E...|              1|          5.4|             1011|\n",
      "|06EAD4C8D98202F1E...|              1|          5.4|             1011|\n",
      "|06EAD4C8D98202F1E...|              1|          5.4|             1011|\n",
      "|06EAD4C8D98202F1E...|              1|          5.4|             1011|\n",
      "|06EAD4C8D98202F1E...|              1|          5.4|             1011|\n",
      "|06EAD4C8D98202F1E...|              1|          5.4|             1011|\n",
      "|06EAD4C8D98202F1E...|              1|          5.4|             1011|\n",
      "|06EAD4C8D98202F1E...|              1|          5.4|             1011|\n",
      "|06EAD4C8D98202F1E...|              1|          5.4|             1011|\n",
      "|06EAD4C8D98202F1E...|              1|          5.4|             1011|\n",
      "|06EAD4C8D98202F1E...|              1|          5.4|             1011|\n",
      "|06EAD4C8D98202F1E...|              1|          5.4|             1011|\n",
      "|06EAD4C8D98202F1E...|              1|          5.4|             1011|\n",
      "+--------------------+---------------+-------------+-----------------+\n",
      "only showing top 20 rows\n",
      "\n"
     ]
    }
   ],
   "source": [
    "trip_fareDF.show()"
   ]
  },
  {
   "cell_type": "code",
   "execution_count": null,
   "metadata": {},
   "outputs": [],
   "source": []
  }
 ],
 "metadata": {
  "kernelspec": {
   "display_name": "Python 3",
   "language": "python",
   "name": "python3"
  },
  "language_info": {
   "codemirror_mode": {
    "name": "ipython",
    "version": 3
   },
   "file_extension": ".py",
   "mimetype": "text/x-python",
   "name": "python",
   "nbconvert_exporter": "python",
   "pygments_lexer": "ipython3",
   "version": "3.7.1"
  }
 },
 "nbformat": 4,
 "nbformat_minor": 2
}
